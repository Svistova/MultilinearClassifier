{
 "cells": [
  {
   "cell_type": "code",
   "execution_count": 9,
   "metadata": {
    "collapsed": false
   },
   "outputs": [],
   "source": [
    "import cPickle, gzip, numpy\n",
    "\n",
    "# Load the dataset\n",
    "f = gzip.open('mnist.pkl.gz', 'rb')\n",
    "train_set, valid_set, test_set = cPickle.load(f)\n",
    "from scipy.misc import toimage\n",
    "toimage(train_set[0][0].reshape((28,28))).show()\n",
    "f.close()"
   ]
  },
  {
   "cell_type": "code",
   "execution_count": 15,
   "metadata": {
    "collapsed": false
   },
   "outputs": [
    {
     "name": "stdout",
     "output_type": "stream",
     "text": [
      "Automatically created module for IPython interactive environment\n",
      "{'Linear regression': array([ 6.26904878,  2.56946144,  1.66495244, ...,  7.78781014,\n",
      "        5.31338014,  5.77132857])}\n"
     ]
    }
   ],
   "source": [
    "print(__doc__)\n",
    "\n",
    "import numpy as np\n",
    "import matplotlib.pyplot as plt\n",
    "\n",
    "#from sklearn.datasets import fetch_olivetti_faces\n",
    "#from sklearn.utils.validation import check_random_state\n",
    "\n",
    "#from sklearn.ensemble import ExtraTreesRegressor\n",
    "#from sklearn.neighbors import KNeighborsRegressor\n",
    "from sklearn.linear_model import LinearRegression\n",
    "#from sklearn.linear_model import RidgeCV\n",
    "\n",
    "\n",
    "\n",
    "\n",
    "\n",
    "\n",
    "X_train = train_set[0][:,:]  \n",
    "y_train = train_set[1][:]\n",
    "X_test = test_set[0][:,:]\n",
    "y_test = test_set[1][:]\n",
    "\n",
    "# Fit estimators\n",
    "#ESTIMATORS = {\n",
    "    \n",
    "    \n",
    "#    \"Linear regression\": LinearRegression()\n",
    "    \n",
    "#}\n",
    "\n",
    "#y_test_predict = dict()\n",
    "\n",
    "estimator = LinearRegression()\n",
    "#for name, estimator in ESTIMATORS.items():\n",
    "estimator.fit(X_train, y_train)\n",
    "y_test_predict[name] = estimator.predict(X_test)\n",
    "    \n",
    "print y_test_predict"
   ]
  },
  {
   "cell_type": "code",
   "execution_count": 16,
   "metadata": {
    "collapsed": false
   },
   "outputs": [
    {
     "name": "stdout",
     "output_type": "stream",
     "text": [
      "[[ 6.37565319  2.13897954  1.46516964 ...,  7.56249573  5.25526248\n",
      "   5.5862969 ]\n",
      " [ 6.20901219  2.74829382  1.858911   ...,  8.09192614  5.24555811\n",
      "   5.87398855]]\n"
     ]
    }
   ],
   "source": [
    "N = 2\n",
    "cluster_size = int(train_set[0].shape[0]/N)\n",
    "X_test = test_set[0][:,:]\n",
    "y_approx = np.zeros((N,y_test.shape[0]))\n",
    "for i in range(N):\n",
    "    X_train = train_set[0][i*cluster_size:(i+1)*cluster_size,:]\n",
    "    y_train = train_set[1][i*cluster_size:(i+1)*cluster_size]\n",
    "    estimator = LinearRegression()\n",
    "    estimator.fit(X_train,y_train)\n",
    "    y_test_predict = estimator.predict(X_test)\n",
    "    y_approx[i,:]=y_test_predict\n",
    "print y_approx"
   ]
  },
  {
   "cell_type": "code",
   "execution_count": null,
   "metadata": {
    "collapsed": true
   },
   "outputs": [],
   "source": []
  }
 ],
 "metadata": {
  "kernelspec": {
   "display_name": "Python 2",
   "language": "python",
   "name": "python2"
  },
  "language_info": {
   "codemirror_mode": {
    "name": "ipython",
    "version": 2
   },
   "file_extension": ".py",
   "mimetype": "text/x-python",
   "name": "python",
   "nbconvert_exporter": "python",
   "pygments_lexer": "ipython2",
   "version": "2.7.10"
  }
 },
 "nbformat": 4,
 "nbformat_minor": 0
}
